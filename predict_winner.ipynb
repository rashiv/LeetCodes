{
 "cells": [
  {
   "cell_type": "raw",
   "metadata": {},
   "source": [
    "Given an array of scores that are non-negative integers. Player 1 picks one of the numbers from either end of the array followed by the player 2 and then player 1 and so on. Each time a player picks a number, that number will not be available for the next player. This continues until all the scores have been chosen. The player with the maximum score wins.\n",
    "\n",
    "Given an array of scores, predict whether player 1 is the winner. You can assume each player plays to maximize his score.\n",
    "\n",
    "Example 1:\n",
    "Input: [1, 5, 2]\n",
    "Output: False\n",
    "Explanation: Initially, player 1 can choose between 1 and 2. \n",
    "If he chooses 2 (or 1), then player 2 can choose from 1 (or 2) and 5. If player 2 chooses 5, then player 1 will be left with 1 (or 2). \n",
    "So, final score of player 1 is 1 + 2 = 3, and player 2 is 5. \n",
    "Hence, player 1 will never be the winner and you need to return False.\n",
    "\n",
    "Example 2:\n",
    "Input: [1, 5, 233, 7]\n",
    "Output: True\n",
    "Explanation: Player 1 first chooses 1. Then player 2 have to choose between 5 and 7. No matter which number player 2 choose, player 1 can choose 233.\n",
    "Finally, player 1 has more score (234) than player 2 (12), so you need to return True representing player1 can win.\n",
    "\n",
    "Note:\n",
    "1. 1 <= length of the array <= 20.\n",
    "2. Any scores in the given array are non-negative integers and will not exceed 10,000,000.\n",
    "3. If the scores of both players are equal, then player 1 is still the winner.\n",
    "\n",
    "Source: https://leetcode.com/problems/predict-the-winner/#/description\n"
   ]
  },
  {
   "cell_type": "code",
   "execution_count": null,
   "metadata": {
    "collapsed": true
   },
   "outputs": [],
   "source": [
    "#DO NOT CHANGE THIS CLASS\n",
    "class Solution(object):\n",
    "\t#YOUR CODE GOES HERE\n",
    "    def PredictTheWinner(self, nums):\n",
    "        \"\"\"\n",
    "        :type nums: List[int]\n",
    "        :rtype: bool\n",
    "        \"\"\"\n",
    "        "
   ]
  },
  {
   "cell_type": "code",
   "execution_count": 128,
   "metadata": {
    "collapsed": true
   },
   "outputs": [],
   "source": [
    "#DO NOT CHANGE THIS CLASS\n",
    "class Solution(object):\n",
    "    #YOUR CODE GOES HERE\n",
    "    def decodeString(self, s):\n",
    "        \"\"\"\n",
    "        :type s: str\n",
    "        :rtype: str\n",
    "        \"\"\"\n",
    "        return self.decodeString_helper(s)\n",
    "    \n",
    "    def is_num(self, string):\n",
    "        for i in range(1,10):\n",
    "            if(str(i) in string):\n",
    "                return True\n",
    "        return False\n",
    "        \n",
    "    def decodeString_helper(self, src):\n",
    "        j = 0\n",
    "        while(self.is_num(src)):\n",
    "            if(self.is_num(src[j])):\n",
    "                dst = src[0:j]\n",
    "                n = int(src[j])\n",
    "                repeat = ''\n",
    "                while(src[j] != ']'):\n",
    "                    repeat += src[j+1]\n",
    "                    j += 1\n",
    "                dst += n*repeat + src[j+1:]\n",
    "                src = dst\n",
    "                j = 0\n",
    "            j += 1\n",
    "                   \n",
    "        dst = src.replace(\"[\", \"\")\n",
    "        src = dst.replace(\"]\", \"\")\n",
    "        return src"
   ]
  },
  {
   "cell_type": "code",
   "execution_count": 132,
   "metadata": {},
   "outputs": [
    {
     "name": "stdout",
     "output_type": "stream",
     "text": [
      "Encoded string: 3[a2[c]]\n",
      "Decoded string: accaccacc\n"
     ]
    }
   ],
   "source": [
    "#test case\n",
    "def main():\n",
    "    s = \"3[a2[c]]\" #\"3[a]2[bc]\" #\"2[abc]3[cd]ef\"\n",
    "    sol = Solution()  \n",
    "    print (\"Encoded string:\", s)\n",
    "    out_string = sol.decodeString(s)\n",
    "    print(\"Decoded string:\", out_string)\n",
    "\n",
    "if __name__ == \"__main__\":\n",
    "    main()\n"
   ]
  }
 ],
 "metadata": {
  "kernelspec": {
   "display_name": "Python [conda env:anaconda3]",
   "language": "python",
   "name": "conda-env-anaconda3-py"
  },
  "language_info": {
   "codemirror_mode": {
    "name": "ipython",
    "version": 3
   },
   "file_extension": ".py",
   "mimetype": "text/x-python",
   "name": "python",
   "nbconvert_exporter": "python",
   "pygments_lexer": "ipython3",
   "version": "3.6.3"
  },
  "toc": {
   "nav_menu": {},
   "number_sections": true,
   "sideBar": true,
   "skip_h1_title": false,
   "title_cell": "Table of Contents",
   "title_sidebar": "Contents",
   "toc_cell": false,
   "toc_position": {},
   "toc_section_display": true,
   "toc_window_display": false
  }
 },
 "nbformat": 4,
 "nbformat_minor": 2
}
