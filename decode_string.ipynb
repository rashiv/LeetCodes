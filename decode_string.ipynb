{
 "cells": [
  {
   "cell_type": "raw",
   "metadata": {},
   "source": [
    "Given an encoded string, return it's decoded string.\n",
    "The encoding rule is: k[encoded_string], where the encoded_string inside the square brackets is being repeated exactly k times. Note that k is guaranteed to be a positive integer.\n",
    "You may assume that the input string is always valid; No extra white spaces, square brackets are well-formed, etc.\n",
    "Furthermore, you may assume that the original data does not contain any digits and that digits are only for those repeat numbers, k. For example, there won't be input like 3a or 2[4].\n",
    "Examples:\n",
    "s = \"3[a]2[bc]\", return \"aaabcbc\".\n",
    "s = \"3[a2[c]]\", return \"accaccacc\".\n",
    "s = \"2[abc]3[cd]ef\", return \"abcabccdcdcdef\".\n",
    "Source: https://leetcode.com/problems/decode-string/#/description"
   ]
  },
  {
   "cell_type": "code",
   "execution_count": 128,
   "metadata": {},
   "outputs": [],
   "source": [
    "#DO NOT CHANGE THIS CLASS\n",
    "class Solution(object):\n",
    "    #YOUR CODE GOES HERE\n",
    "    def decodeString(self, s):\n",
    "        \"\"\"\n",
    "        :type s: str\n",
    "        :rtype: str\n",
    "        \"\"\"\n",
    "        return self.decodeString_helper(s)\n",
    "    \n",
    "    def is_num(self, string):\n",
    "        for i in range(1,10):\n",
    "            if(str(i) in string):\n",
    "                return True\n",
    "        return False\n",
    "        \n",
    "    def decodeString_helper(self, src):\n",
    "        j = 0\n",
    "        while(self.is_num(src)):\n",
    "            if(self.is_num(src[j])):\n",
    "                dst = src[0:j]\n",
    "                n = int(src[j])\n",
    "                repeat = ''\n",
    "                while(src[j] != ']'):\n",
    "                    repeat += src[j+1]\n",
    "                    j += 1\n",
    "                dst += n*repeat + src[j+1:]\n",
    "                src = dst\n",
    "                j = 0\n",
    "            j += 1\n",
    "                   \n",
    "        dst = src.replace(\"[\", \"\")\n",
    "        src = dst.replace(\"]\", \"\")\n",
    "        return src"
   ]
  },
  {
   "cell_type": "code",
   "execution_count": 132,
   "metadata": {},
   "outputs": [
    {
     "name": "stdout",
     "output_type": "stream",
     "text": [
      "Encoded string: 3[a2[c]]\n",
      "Decoded string: accaccacc\n"
     ]
    }
   ],
   "source": [
    "#test case\n",
    "def main():\n",
    "    s = \"3[a2[c]]\" #\"3[a]2[bc]\" #\"2[abc]3[cd]ef\"\n",
    "    sol = Solution()  \n",
    "    print (\"Encoded string:\", s)\n",
    "    out_string = sol.decodeString(s)\n",
    "    print(\"Decoded string:\", out_string)\n",
    "\n",
    "if __name__ == \"__main__\":\n",
    "    main()\n"
   ]
  }
 ],
 "metadata": {
  "kernelspec": {
   "display_name": "Python [conda env:anaconda3]",
   "language": "python",
   "name": "conda-env-anaconda3-py"
  },
  "language_info": {
   "codemirror_mode": {
    "name": "ipython",
    "version": 3
   },
   "file_extension": ".py",
   "mimetype": "text/x-python",
   "name": "python",
   "nbconvert_exporter": "python",
   "pygments_lexer": "ipython3",
   "version": "3.6.3"
  },
  "toc": {
   "nav_menu": {},
   "number_sections": true,
   "sideBar": true,
   "skip_h1_title": false,
   "title_cell": "Table of Contents",
   "title_sidebar": "Contents",
   "toc_cell": false,
   "toc_position": {},
   "toc_section_display": true,
   "toc_window_display": false
  }
 },
 "nbformat": 4,
 "nbformat_minor": 2
}
