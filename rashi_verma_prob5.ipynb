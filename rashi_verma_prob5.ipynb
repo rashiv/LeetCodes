{
 "cells": [
  {
   "cell_type": "markdown",
   "metadata": {},
   "source": [
    "Merge two sorted lists and return it as a new list. \n",
    "The new list should be made by splicing together the nodes of the first two lists.\n",
    "Source: https://leetcode.com/problems/merge-two-sorted-lists/#/description\n",
    "        \n",
    "NOTE: These are ordinary lists, NOT linked lists!"
   ]
  },
  {
   "cell_type": "code",
   "execution_count": 65,
   "metadata": {
    "collapsed": true
   },
   "outputs": [],
   "source": [
    "def merge_two_list_helper(list1, list2):\n",
    "    #NOTE: YOU CAN NOT USE ANY SORTING LIBRARIES\n",
    "    #YOUR CODE GOES HERE\n",
    "    l1 = 0; l2 = 0; total = len(list1) + len(list2)\n",
    "    while(l1 + l2 < total):\n",
    "        if(list2[l2] < list1[l1]):\n",
    "            list1.insert(l1, list2[l2])\n",
    "            l1 += 1; l2 += 1\n",
    "        else:\n",
    "            l1 += 1\n",
    "    list1.extend(list2[l2:len(list2)])\n",
    "    return list1"
   ]
  },
  {
   "cell_type": "code",
   "execution_count": 66,
   "metadata": {
    "collapsed": true
   },
   "outputs": [],
   "source": [
    "#DO NOT CHANGE THIS FUNCTION\n",
    "def merge_two_list(list1,list2):\n",
    "\treturn merge_two_list_helper(list1, list2)\n"
   ]
  },
  {
   "cell_type": "code",
   "execution_count": 67,
   "metadata": {},
   "outputs": [
    {
     "name": "stdout",
     "output_type": "stream",
     "text": [
      "merging [1,3,5] and [2,4,6]......\n",
      "expected result is [1,2,3,4,5,6]\n",
      "your output is [1, 2, 3, 4, 5, 6]\n"
     ]
    }
   ],
   "source": [
    "#test cases\n",
    "def main():\n",
    "    list1 = [1,3,5]\n",
    "    list2 = [2,4,6]\n",
    "    print (\"merging [1,3,5] and [2,4,6]......\")\n",
    "    print (\"expected result is [1,2,3,4,5,6]\")\n",
    "    print (\"your output is {}\".format(merge_two_list(list1, list2)))\n",
    "\n",
    "if __name__ == \"__main__\":\n",
    "    main()"
   ]
  }
 ],
 "metadata": {
  "kernelspec": {
   "display_name": "Python [conda env:anaconda3]",
   "language": "python",
   "name": "conda-env-anaconda3-py"
  },
  "language_info": {
   "codemirror_mode": {
    "name": "ipython",
    "version": 3
   },
   "file_extension": ".py",
   "mimetype": "text/x-python",
   "name": "python",
   "nbconvert_exporter": "python",
   "pygments_lexer": "ipython3",
   "version": "3.6.3"
  },
  "toc": {
   "nav_menu": {},
   "number_sections": true,
   "sideBar": true,
   "skip_h1_title": false,
   "title_cell": "Table of Contents",
   "title_sidebar": "Contents",
   "toc_cell": false,
   "toc_position": {},
   "toc_section_display": true,
   "toc_window_display": false
  }
 },
 "nbformat": 4,
 "nbformat_minor": 2
}
