{
 "cells": [
  {
   "cell_type": "raw",
   "metadata": {},
   "source": [
    "Given an array where elements are sorted in ascending order, convert it to a height balanced BST.\n",
    "\n",
    "Source: https://leetcode.com/problems/convert-sorted-array-to-binary-search-tree/#/description\n",
    "\n",
    "Given the sorted array: [-10,-3,0,5,9],\n",
    "\n",
    "One possible answer is: [0,-3,9,-10,null,5], which represents the following height balanced BST:\n",
    "\n",
    "      0\n",
    "     / \\\n",
    "   -3   9\n",
    "   /   /\n",
    " -10  5"
   ]
  },
  {
   "cell_type": "code",
   "execution_count": 1,
   "metadata": {
    "collapsed": true
   },
   "outputs": [],
   "source": [
    "# Definition for a binary tree node.\n",
    "class TreeNode(object):\n",
    "    def __init__(self, x):\n",
    "        self.val = x\n",
    "        self.left = None\n",
    "        self.right = None"
   ]
  },
  {
   "cell_type": "code",
   "execution_count": 2,
   "metadata": {},
   "outputs": [],
   "source": [
    "#DO NOT CHANGE THIS CLASS\n",
    "class Solution(object):\n",
    "    def sortedArrayToBST(self, nums):\n",
    "        \"\"\"\n",
    "        :type nums: List[int]\n",
    "        :rtype: TreeNode\n",
    "        \"\"\"\n",
    "        if(len(nums) == 0): # check if empty array\n",
    "            return None\n",
    "        if(len(nums) == 1):\n",
    "            return TreeNode(nums[0])\n",
    "        centre = len(nums)//2\n",
    "        root = TreeNode(nums[centre]) # // returns floor of integer division\n",
    "        \n",
    "        print(nums[centre]) # printing out where splits happen and remaining array as a sanity check\n",
    "        print(nums)\n",
    "        \n",
    "        root.left = self.sortedArrayToBST(nums[:centre])\n",
    "        root.right = self.sortedArrayToBST(nums[centre+1:])\n",
    "        return root\n",
    "    "
   ]
  },
  {
   "cell_type": "code",
   "execution_count": 3,
   "metadata": {},
   "outputs": [
    {
     "name": "stdout",
     "output_type": "stream",
     "text": [
      "0\n",
      "[-10, -3, 0, 5, 9]\n",
      "-3\n",
      "[-10, -3]\n",
      "9\n",
      "[5, 9]\n"
     ]
    }
   ],
   "source": [
    "def main():\n",
    "    nums = [-10,-3,0,5,9]\n",
    "    Solution().sortedArrayToBST(nums)\n",
    "    \n",
    "if __name__ == \"__main__\":\n",
    "    main()"
   ]
  }
 ],
 "metadata": {
  "kernelspec": {
   "display_name": "Python [conda env:anaconda3]",
   "language": "python",
   "name": "conda-env-anaconda3-py"
  },
  "language_info": {
   "codemirror_mode": {
    "name": "ipython",
    "version": 3
   },
   "file_extension": ".py",
   "mimetype": "text/x-python",
   "name": "python",
   "nbconvert_exporter": "python",
   "pygments_lexer": "ipython3",
   "version": "3.6.3"
  }
 },
 "nbformat": 4,
 "nbformat_minor": 2
}
