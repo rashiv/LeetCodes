{
 "cells": [
  {
   "cell_type": "markdown",
   "metadata": {},
   "source": [
    "Say you have an array for which the ith element is the price of a given stock on day i.\n",
    "\n",
    "If you were only permitted to complete at most one transaction (ie, buy one and sell one share of the stock), design an algorithm to find the maximum profit.\n",
    "Example 1:\n",
    "\n",
    "Input: [7, 1, 5, 3, 6, 4]\n",
    "Output: 5\n",
    "\n",
    "max. difference = 6-1 = 5 (not 7-1 = 6, as selling price needs to be larger than buying price)\n",
    "\n",
    "Example 2:\n",
    "\n",
    "Input: [7, 6, 4, 3, 1]\n",
    "Output: 0\n",
    "\n",
    "In this case, no transaction is done, i.e. max profit = 0."
   ]
  },
  {
   "cell_type": "code",
   "execution_count": 1,
   "metadata": {
    "collapsed": true
   },
   "outputs": [],
   "source": [
    "#YOUR CODE GOES HERE\n",
    "# selling price needs to be larger than buying price, so don't bother with first element!\n",
    "def max_profit_helper(price):\n",
    "    max_out = 0; min_price = price[0]\n",
    "    # efficient O(N) way by keeping track of biggest peak and valley\n",
    "    if(len(price) < 2):\n",
    "        return max_out\n",
    "    for i in range(1, len(price)):\n",
    "        if(min_price > price[i]):\n",
    "            min_price = price[i]\n",
    "        if(max_out < price[i] - min_price):\n",
    "            max_out = price[i] - min_price\n",
    "    \n",
    "    return max_out"
   ]
  },
  {
   "cell_type": "code",
   "execution_count": 2,
   "metadata": {
    "collapsed": true
   },
   "outputs": [],
   "source": [
    "##DON\"T CHANGE THIS\n",
    "def max_profit(price):\n",
    "    return max_profit_helper(price)"
   ]
  },
  {
   "cell_type": "code",
   "execution_count": 3,
   "metadata": {},
   "outputs": [
    {
     "name": "stdout",
     "output_type": "stream",
     "text": [
      "Expected result for  [7, 1, 5, 3, 6, 4] : 5\n",
      "Your result for  [7, 1, 5, 3, 6, 4] :  5\n",
      "Expected result for  [7, 6, 4, 3, 1] : 0\n",
      "Your result for  [7, 6, 4, 3, 1] :  0\n"
     ]
    }
   ],
   "source": [
    "#test case\n",
    "def main():\n",
    "    input1 = [7, 1, 5, 3, 6, 4]\n",
    "    print (\"Expected result for \", input1, \": 5\")\n",
    "    print (\"Your result for \", input1, \": \", max_profit(input1))\n",
    "    input2 = [7, 6, 4, 3, 1] \n",
    "    print (\"Expected result for \", input2, \": 0\")\n",
    "    print (\"Your result for \", input2, \": \", max_profit(input2))\n",
    "\n",
    "if __name__ == \"__main__\":\n",
    "    main()"
   ]
  }
 ],
 "metadata": {
  "kernelspec": {
   "display_name": "Python [conda env:anaconda3]",
   "language": "python",
   "name": "conda-env-anaconda3-py"
  },
  "language_info": {
   "codemirror_mode": {
    "name": "ipython",
    "version": 3
   },
   "file_extension": ".py",
   "mimetype": "text/x-python",
   "name": "python",
   "nbconvert_exporter": "python",
   "pygments_lexer": "ipython3",
   "version": "3.6.3"
  }
 },
 "nbformat": 4,
 "nbformat_minor": 2
}
