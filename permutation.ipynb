{
 "cells": [
  {
   "cell_type": "raw",
   "metadata": {},
   "source": [
    "Given a collection of distinct numbers, return all possible permutations.\n",
    "For example,\n",
    "[1,2,3] have the following permutations:\n",
    "[\n",
    "  [1,2,3],\n",
    "  [1,3,2],\n",
    "  [2,1,3],\n",
    "  [2,3,1],\n",
    "  [3,1,2],\n",
    "  [3,2,1]\n",
    "]\n",
    "Source: https://leetcode.com/problems/permutations/#/description"
   ]
  },
  {
   "cell_type": "code",
   "execution_count": 3,
   "metadata": {
    "collapsed": true
   },
   "outputs": [],
   "source": [
    "#DO NOT CHANGE THIS CLASS\n",
    "class Solution(object):\n",
    "\t#YOUR CODE GOES HERE\n",
    "    def permute(self, nums):\n",
    "        \"\"\"\n",
    "        :type nums: List[int]\n",
    "        :rtype: List[List[int]] \n",
    "        \"\"\"\n",
    "        d = []; o = []\n",
    "        self.permute_helper(nums, d, o)\n",
    "        return o\n",
    "        \n",
    "    def permute_helper(self, src, dst, out):\n",
    "        if(len(src) == 0):\n",
    "            out.append(dst)\n",
    "        for j in range(len(src)):\n",
    "            tmp_src = src.copy()\n",
    "            tmp_dst = dst.copy()\n",
    "            tmp_dst.append(tmp_src.pop(j))\n",
    "            self.permute_helper(tmp_src, tmp_dst, out)"
   ]
  },
  {
   "cell_type": "code",
   "execution_count": 15,
   "metadata": {},
   "outputs": [
    {
     "name": "stdout",
     "output_type": "stream",
     "text": [
      "Input list: [1, 2, 3, 4]\n",
      "Output list of permutations:\n",
      " [[1, 2, 3, 4], [1, 2, 4, 3], [1, 3, 2, 4], [1, 3, 4, 2], [1, 4, 2, 3], [1, 4, 3, 2], [2, 1, 3, 4], [2, 1, 4, 3], [2, 3, 1, 4], [2, 3, 4, 1], [2, 4, 1, 3], [2, 4, 3, 1], [3, 1, 2, 4], [3, 1, 4, 2], [3, 2, 1, 4], [3, 2, 4, 1], [3, 4, 1, 2], [3, 4, 2, 1], [4, 1, 2, 3], [4, 1, 3, 2], [4, 2, 1, 3], [4, 2, 3, 1], [4, 3, 1, 2], [4, 3, 2, 1]]\n",
      "If distinct: True\n"
     ]
    }
   ],
   "source": [
    "#test case\n",
    "def main():\n",
    "    nums = [1,2,3,4]\n",
    "    sol = Solution()  \n",
    "    print (\"Input list:\", nums)\n",
    "    out_list = sol.permute(nums)\n",
    "    print(\"Output list of permutations:\\n\", out_list)\n",
    "    \n",
    "    out_list_tuples = [tuple(elem) for elem in out_list]\n",
    "    # convert 2D list to list of tuples so that it can be converted to a set\n",
    "    # tuples are fixed length lists\n",
    "    \n",
    "    print(\"If distinct:\", len(out_list) == len(set(out_list_tuples)))\n",
    "\n",
    "if __name__ == \"__main__\":\n",
    "    main()"
   ]
  },
  {
   "cell_type": "code",
   "execution_count": null,
   "metadata": {
    "collapsed": true
   },
   "outputs": [],
   "source": []
  }
 ],
 "metadata": {
  "kernelspec": {
   "display_name": "Python [conda env:anaconda3]",
   "language": "python",
   "name": "conda-env-anaconda3-py"
  },
  "language_info": {
   "codemirror_mode": {
    "name": "ipython",
    "version": 3
   },
   "file_extension": ".py",
   "mimetype": "text/x-python",
   "name": "python",
   "nbconvert_exporter": "python",
   "pygments_lexer": "ipython3",
   "version": "3.6.3"
  },
  "toc": {
   "nav_menu": {},
   "number_sections": true,
   "sideBar": true,
   "skip_h1_title": false,
   "title_cell": "Table of Contents",
   "title_sidebar": "Contents",
   "toc_cell": false,
   "toc_position": {},
   "toc_section_display": true,
   "toc_window_display": false
  }
 },
 "nbformat": 4,
 "nbformat_minor": 2
}
