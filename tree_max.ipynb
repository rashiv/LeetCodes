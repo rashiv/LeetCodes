{
 "cells": [
  {
   "cell_type": "markdown",
   "metadata": {},
   "source": [
    "Given a binary tree, find its maximum depth\n",
    "The maximum depth is the number of nodes along the longest path from the root node down to the farthest leaf node"
   ]
  },
  {
   "cell_type": "code",
   "execution_count": 1,
   "metadata": {
    "collapsed": true
   },
   "outputs": [],
   "source": [
    "# Constructor to create a new node\n",
    "class Node:\n",
    "    def __init__(self, data):\n",
    "        self.data = data\n",
    "        self.left = None\n",
    "        self.right = None"
   ]
  },
  {
   "cell_type": "code",
   "execution_count": 2,
   "metadata": {
    "collapsed": true
   },
   "outputs": [],
   "source": [
    "def depth_helper(node):\n",
    "    if(node == None): # safe programming \n",
    "        return 0\n",
    "    if(depth_helper(node.left) > depth_helper(node.right)):\n",
    "        return 1 + depth_helper(node.left)\n",
    "    else:\n",
    "        return 1 + depth_helper(node.right)"
   ]
  },
  {
   "cell_type": "code",
   "execution_count": 3,
   "metadata": {
    "collapsed": true
   },
   "outputs": [],
   "source": [
    "#PLEASE DO NOT CHANGE THIS\n",
    "def find_max_depth(tree):\n",
    "    depth = depth_helper(tree)\n",
    "    return depth"
   ]
  },
  {
   "cell_type": "code",
   "execution_count": 4,
   "metadata": {},
   "outputs": [
    {
     "name": "stdout",
     "output_type": "stream",
     "text": [
      "Depth of tree is 3, and the expected result is 3\n"
     ]
    }
   ],
   "source": [
    "#test cases\n",
    "def main():\n",
    "    root = Node(1)\n",
    "    root.left = Node(2)\n",
    "    root.right = Node(3)\n",
    "    root.left.left = Node(4)\n",
    "    root.left.right = Node(5)    \n",
    "\n",
    "    print (\"Depth of tree is %d, and the expected result is 3\" %(find_max_depth(root),))\n",
    "\n",
    "if __name__ == \"__main__\":\n",
    "    main()"
   ]
  },
  {
   "cell_type": "raw",
   "metadata": {},
   "source": [
    "# modifying to get depth 5\n",
    "    root.left.right.left = Node(6)\n",
    "    root.left.right.left.left = Node(7)"
   ]
  }
 ],
 "metadata": {
  "kernelspec": {
   "display_name": "Python [conda env:anaconda3]",
   "language": "python",
   "name": "conda-env-anaconda3-py"
  },
  "language_info": {
   "codemirror_mode": {
    "name": "ipython",
    "version": 3
   },
   "file_extension": ".py",
   "mimetype": "text/x-python",
   "name": "python",
   "nbconvert_exporter": "python",
   "pygments_lexer": "ipython3",
   "version": "3.6.3"
  }
 },
 "nbformat": 4,
 "nbformat_minor": 2
}
