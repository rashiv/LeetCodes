{
 "cells": [
  {
   "cell_type": "markdown",
   "metadata": {},
   "source": [
    "Given a string check if it can be constructed by taking a substring of it and appending multiple copies of the substring together. You may assume the given string consists of lowercase English letters only and its length will not exceed 10000.\n",
    "\n",
    "Example 1:\n",
    "Input: \"abab\"\n",
    "Output: True\n",
    "Explanation: It's the substring \"ab\" twice.\n",
    "\n",
    "Example 2:\n",
    "Input: \"aba\"\n",
    "Output: False\n",
    "\n",
    "Example 3:\n",
    "Input: \"abcabcabcabc\"\n",
    "Output: True\n",
    "Explanation: It's the substring \"abc\" four times. (And the substring \"abcabc\" twice.)"
   ]
  },
  {
   "cell_type": "code",
   "execution_count": 1,
   "metadata": {
    "collapsed": true
   },
   "outputs": [],
   "source": [
    "def is_substring_helper(string_input):\n",
    "    first = string_input[0];\n",
    "    substring = [first]\n",
    "    for i in range(1,len(string_input)):\n",
    "        if(string_input[i] != first):\n",
    "            substring.append(string_input[i])\n",
    "        else:\n",
    "            break\n",
    "    print(substring)\n",
    "    if(len(string_input)%len(substring) != 0): # finite remainder if pattern does not repeat\n",
    "        return False\n",
    "    \n",
    "    for j in range(i, len(string_input)):\n",
    "        if(string_input[j] != substring[j%len(substring)]):\n",
    "            return False\n",
    "\n",
    "    if(j == len(string_input)-1):\n",
    "        return True\n",
    "    \n",
    "    #return False\n"
   ]
  },
  {
   "cell_type": "code",
   "execution_count": 2,
   "metadata": {
    "collapsed": true
   },
   "outputs": [],
   "source": [
    "#DON NOT CHANGE THIS FUNCTION\n",
    "def is_substring (string_input):\n",
    "    return is_substring_helper(string_input)\n"
   ]
  },
  {
   "cell_type": "code",
   "execution_count": 3,
   "metadata": {},
   "outputs": [
    {
     "name": "stdout",
     "output_type": "stream",
     "text": [
      "['a', 'b']\n",
      "Testing your code with TEST_CASE1, the expected output is True, your output is True\n",
      "['a', 'b']\n",
      "Testing your code with TEST_CASE2, the expected output is False, your output is False\n",
      "['a', 'b', 'c']\n",
      "Testing your code with TEST_CASE3, the expected output is True, your output is True\n"
     ]
    }
   ],
   "source": [
    "#test case\n",
    "def main():\n",
    "    TEST_CASE1 = \"abab\"\n",
    "    TEST_CASE2 = \"aba\"\n",
    "    TEST_CASE3 = \"abcabcabcabc\"\n",
    "\n",
    "    print (\"Testing your code with TEST_CASE1, the expected output is True, your output is {}\".format(is_substring(TEST_CASE1)))\n",
    "    print (\"Testing your code with TEST_CASE2, the expected output is False, your output is {}\".format(is_substring(TEST_CASE2)))\n",
    "    print (\"Testing your code with TEST_CASE3, the expected output is True, your output is {}\".format(is_substring(TEST_CASE3)))\n",
    "\n",
    "if __name__ == \"__main__\":\n",
    "    main()"
   ]
  }
 ],
 "metadata": {
  "kernelspec": {
   "display_name": "Python [conda env:anaconda3]",
   "language": "python",
   "name": "conda-env-anaconda3-py"
  },
  "language_info": {
   "codemirror_mode": {
    "name": "ipython",
    "version": 3
   },
   "file_extension": ".py",
   "mimetype": "text/x-python",
   "name": "python",
   "nbconvert_exporter": "python",
   "pygments_lexer": "ipython3",
   "version": "3.6.3"
  }
 },
 "nbformat": 4,
 "nbformat_minor": 2
}
